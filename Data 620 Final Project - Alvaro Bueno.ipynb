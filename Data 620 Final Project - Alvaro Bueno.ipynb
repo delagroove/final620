{
 "cells": [
  {
   "cell_type": "markdown",
   "metadata": {},
   "source": [
    "## Social Network Analysis of Catalonia Referendum actors – after 1 year of the voting event.\n",
    "\n",
    "### Overview\n",
    "\n",
    "In October 1st, 2017, Catalonia, a vast region in Northern Spain, held an Independence Referendum\n",
    "that asked its citizens if they wanted to become a new republic, separated from Spain. The Madridbased\n",
    "Spain Government declared the vote illegal and worked to thwart the independentism spirit\n",
    "that came with it. Catalonia’s leaders at the time, Led by Carles Puigdemont continued with the\n",
    "referendum, which was approved by a vast majority of the population.\n",
    "\n",
    "Spain proceed to arrest the promoters and dismantle the institutions that participated in it, after\n",
    "invoking an article (155) of the Spanish constitution that removed the autonomy In the region by the\n",
    "central government.\n",
    "\n",
    "One year after, things have changed dramatically: A lot of the original leaders are in Exile, arrested or\n",
    "promoting the independentist ideas from outside the Catalonian or Spanish Institutions, even the\n",
    "Spanish Prime Minister that had to deal with all of this is now ousted.\n"
   ]
  },
  {
   "cell_type": "markdown",
   "metadata": {},
   "source": [
    "### Methodology\n",
    "\n",
    "The project consists in to take the twitter accounts of the Organizers of the referendum a year ago\n",
    "(mostly twitter handles) and also take the new leaders or the people that currently are promoting\n",
    "pro-independence ideas (these can be found using popular or in Catalan media). The idea is to\n",
    "compare the leadership then and now, analyze if the movement still has some traction and try to\n",
    "identify new leadership roles in the Catalonia independence process.\n",
    "\n",
    "To achieve this I will plan to use a Twitter developer account ( I already have this access) and the full\n",
    "API, also the 30-day API to gather information of the most popular hashtags."
   ]
  },
  {
   "cell_type": "markdown",
   "metadata": {},
   "source": [
    "### challenges\n",
    "\n",
    "\n",
    "My biggest concern is the time that needs to be used to gather all the twitter handles necessary to\n",
    "have the best information available, Also the use of Catalan as a language can cause interpretation\n",
    "barriers, although I don’t plan to analyze text but the relationships between pro-independence\n",
    "actors and the people that go against it."
   ]
  },
  {
   "cell_type": "markdown",
   "metadata": {},
   "source": [
    "# other analysts\n",
    "politicians - for\n",
    "junqueras\n",
    "KRLS\n",
    "QuimTorraiPla\n",
    "AdaColau\n",
    "jcuixart\n",
    "\n",
    "politicians -  against\n",
    "sanchezcastejon\n",
    "marianorajoy\n",
    "Pablo_Iglesias_\n",
    "Ivanobrador\n",
    "\n",
    "\n",
    "PACs\n",
    "marcelmauri\n",
    "omnium\n",
    "\n",
    "People adhered to the cause\n",
    "lizcastro\n",
    "___q____5____\n",
    "ebenach\n",
    "AnnaSimo\n",
    "\n",
    "\n",
    "> Analysis 1: Go an take all these accounts and check their tweets and retweets (if it’s a retweet) take the origin and check their tweets as well. (Maybe up to 2 levels)\n",
    "\n",
    "> Analysis 1A: Gather the hashtags, start gathering the users that use their hashtags, and start creating an association network.\n",
    "\n",
    "> Analysis 2 - can be done if we compare this with the network created with the tweets from a year ago."
   ]
  },
  {
   "cell_type": "code",
   "execution_count": 170,
   "metadata": {},
   "outputs": [
    {
     "name": "stdout",
     "output_type": "stream",
     "text": [
      "{\"created_at\": \"Tue May 13 22:18:01 +0000 2008\", \"description\": \"life is good!\", \"favourites_count\": 30, \"followers_count\": 145, \"friends_count\": 372, \"id\": 14765503, \"id_str\": \"14765503\", \"lang\": \"en\", \"listed_count\": 6, \"location\": \"New York\", \"name\": \"Alvaro Bueno\", \"profile_background_color\": \"DDEACD\", \"profile_background_image_url\": \"http://abs.twimg.com/images/themes/theme1/bg.png\", \"profile_background_image_url_https\": \"https://abs.twimg.com/images/themes/theme1/bg.png\", \"profile_image_url\": \"http://pbs.twimg.com/profile_images/530628593/n518615568_111718_8255_normal.jpg\", \"profile_image_url_https\": \"https://pbs.twimg.com/profile_images/530628593/n518615568_111718_8255_normal.jpg\", \"profile_link_color\": \"000000\", \"profile_sidebar_border_color\": \"FFFFFF\", \"profile_sidebar_fill_color\": \"E5F2C4\", \"profile_text_color\": \"000000\", \"screen_name\": \"elpito\", \"status\": {\"created_at\": \"Thu Dec 20 15:34:06 +0000 2018\", \"id\": 1075776364618240001, \"id_str\": \"1075776364618240001\", \"lang\": \"es\", \"quoted_status_id\": 1075250796315451392, \"quoted_status_id_str\": \"1075250796315451392\", \"retweet_count\": 529, \"retweeted\": true, \"retweeted_status\": {\"created_at\": \"Wed Dec 19 05:19:03 +0000 2018\", \"favorite_count\": 1433, \"id\": 1075259190954913792, \"id_str\": \"1075259190954913792\", \"lang\": \"es\", \"quoted_status_id\": 1075250796315451392, \"quoted_status_id_str\": \"1075250796315451392\", \"retweet_count\": 529, \"retweeted\": true, \"source\": \"<a href=\\\"http://twitter.com/download/iphone\\\" rel=\\\"nofollow\\\">Twitter for iPhone</a>\", \"text\": \"Ministra Silvia Consta\\u00edn anuncia que gracias a toda la presi\\u00f3n ciudadana y accion colectiva, no pudo conseguir los\\u2026 https://t.co/ygohiNyFeA\", \"truncated\": true}, \"source\": \"<a href=\\\"http://tapbots.com/tweetbot\\\" rel=\\\"nofollow\\\">Tweetbot for i\\u039fS</a>\", \"text\": \"RT @ClaudiaLopez: Ministra Silvia Consta\\u00edn anuncia que gracias a toda la presi\\u00f3n ciudadana y accion colectiva, no pudo conseguir los votos\\u2026\"}, \"statuses_count\": 420, \"url\": \"http://t.co/fQWY6ohlhC\"}\n"
     ]
    }
   ],
   "source": [
    "import networkx as nx\n",
    "import twitter\n",
    "api = twitter.Api(consumer_key='4MipgUa1XBgDcnlIBleJsuMeX',\n",
    "                      consumer_secret='lCA2lwcRp5IuCKJAP354QDxFl60oHfUBlOmrSjHcOxZ599PdnU',\n",
    "                      access_token_key='14765503-RyQlscnV5SVzqTJIpJJV0OnAxNRQBrX4k33XISDWP',\n",
    "                      access_token_secret='Dp0JcmxLYr7MCOM0B4BRHdUq5TT4W8yMO4up6qg2DjTZg',\n",
    "                 sleep_on_rate_limit = True\n",
    "                 )\n",
    "\n",
    "print(api.VerifyCredentials())\n",
    "\n",
    "\n"
   ]
  },
  {
   "cell_type": "code",
   "execution_count": 171,
   "metadata": {},
   "outputs": [],
   "source": [
    "api.InitializeRateLimit()\n",
    "import random as rn\n",
    "import matplotlib.pyplot as plt\n",
    "\n",
    "import networkx as nx\n"
   ]
  },
  {
   "cell_type": "code",
   "execution_count": 172,
   "metadata": {},
   "outputs": [],
   "source": [
    "\n",
    "\n",
    "\n",
    "szfak = 100  # this scales up everything - somehow it is needed\n",
    "cdfak = 1200\n",
    "nodedict={}\n",
    "\n",
    "G=nx.Graph()\n",
    "\n",
    "\n",
    "the_hashtags = []\n",
    "    \n",
    "group0 = ['monasterioR'] # politicians - FOR\n",
    "group1 = ['junqueras', 'KRLS', 'QuimTorraiPla', 'AdaColau', 'jcuixart'] # politicians - FOR\n",
    "group2 = ['sanchezcastejon', 'marianorajoy', 'Pablo_Iglesias_', 'Ivanobrador', 'monasterioR','Santi_ABASCAL'] # politicians - Against\n",
    "group3 = ['marcelmauri', 'omnium'] # PACs - FOR\n",
    "group4 = ['lizcastro', 'ebenach', 'AnnaSimo'] # People adhered to the cause\n",
    "\n",
    "groupall = group1 + group2 + group3 + group4\n",
    "\n",
    "#for username in groupall:\n",
    "#  timeline = api.GetUser(None, screen_name=username)\n",
    "#  if timeline.status.hashtags:\n",
    "#    print(timeline.status.hashtags)\n",
    "#    if timeline.status.hashtags[0] not in the_hashtags:\n",
    "#      the_hashtags.append(timeline.status.hashtags[0])\n",
    "#                    \n",
    "#print(the_hashtags)\n",
    "\n",
    "\n",
    "for username in group0:\n",
    "  frie = []\n",
    "  freunde = api.GetFriends(screen_name=username)\n",
    "  #freunde = api.GetFriends()\n",
    "  ##fnode = addfnode(username)\n",
    "  G.add_node( username, viz={'color':{'r':int(255*rn.random()),'b':int(255*rn.random()),'g':int(255*rn.random()),'a':\"0.7\"},'position':{'x': cdfak*rn.random(),'y': cdfak*rn.random(),'z':'0.0'},'size':'10'})\n",
    "  r = int(255*rn.random())\n",
    "  g = int(255*rn.random())\n",
    "  b = int(255*rn.random())\n",
    "  for friend in freunde:     \n",
    "      G.add_node(friend.screen_name,viz={'color':{'r':r,'b':b,'g':g,'a':\"0.7\"},'position':{'x': cdfak*rn.random(),'y': cdfak*rn.random(),'z':'0.0'},'size':'5'})\n",
    "      G.add_edge(username,friend.screen_name,viz={'color':{'r':\"10\",'b':\"10\",'g':\"10\",'a':\"1\"}})\n",
    "\n",
    "  \n",
    "nx.write_gexf(G, 'monasterio.gexf')\n"
   ]
  },
  {
   "cell_type": "code",
   "execution_count": 160,
   "metadata": {},
   "outputs": [
    {
     "data": {
      "text/plain": [
       "['junqueras',\n",
       " 'KRLS',\n",
       " 'QuimTorraiPla',\n",
       " 'AdaColau',\n",
       " 'jcuixart',\n",
       " 'sanchezcastejon',\n",
       " 'marianorajoy',\n",
       " 'Pablo_Iglesias_',\n",
       " 'Ivanobrador']"
      ]
     },
     "execution_count": 160,
     "metadata": {},
     "output_type": "execute_result"
    }
   ],
   "source": []
  },
  {
   "cell_type": "code",
   "execution_count": null,
   "metadata": {},
   "outputs": [],
   "source": [
    "pos=nx.spring_layout(G)\n",
    "nx.draw_networkx_nodes(G,pos,node_size=1, node_color=\"black\" )\n",
    "nx.draw_networkx_edges(G,pos)\n",
    "plt.show()"
   ]
  },
  {
   "cell_type": "code",
   "execution_count": 93,
   "metadata": {},
   "outputs": [
    {
     "data": {
      "text/plain": [
       "[Status(ID=1074939864825638913, ScreenName=boye_g, Created=Tue Dec 18 08:10:09 +0000 2018, Text=u'Igual luego Borrell se molesta con el NYT https://t.co/N8FpC1PcC7'),\n",
       " Status(ID=1074798801737707520, ScreenName=KRLS, Created=Mon Dec 17 22:49:37 +0000 2018, Text=u'A former fascist activist is now the PP candidate (@EPP member) for the municipality of Barcelona. The extreme righ\\u2026 https://t.co/qypm43JdXL'),\n",
       " Status(ID=1075206602158952448, ScreenName=AamerAnwar, Created=Wed Dec 19 01:50:04 +0000 2018, Text=u'Day19 hunger strike for Catalan Political Prisoners-They wrote to Europe\\u2019s Political leaders.Time for political lea\\u2026 https://t.co/yYI0vqOjFc'),\n",
       " Status(ID=1075424305394184192, ScreenName=gudrungiebels, Created=Wed Dec 19 16:15:09 +0000 2018, Text=u\"RT @JanneRiitakorpi: Spain's trial of the century: What\\u2019s at stake for #Catalonia's separatist leaders? https://t.co/IhB20pltlQ\"),\n",
       " Status(ID=1075424276814184449, ScreenName=bjkbrady, Created=Wed Dec 19 16:15:02 +0000 2018, Text=u'RT @jackiedeburca: Discover the Biarritz of #Spain in this delicious drive with #firstwithhertz #Benicassim Belle Epoque https://t.co/xScMZ\\u2026'),\n",
       " Status(ID=1075424248309657600, ScreenName=Billleslie181, Created=Wed Dec 19 16:14:55 +0000 2018, Text=u'RT @OmniumIntl: Lawyers of Catalan political prisoners denounce the infringement of basic rights at pretrial hearings in Madrid. @jcuixart\\u2069\\u2026'),\n",
       " Status(ID=1075424161554722816, ScreenName=EllenDaider, Created=Wed Dec 19 16:14:35 +0000 2018, Text=u'RT @Juanmi_News: \\xdaLTIMA HORA: Los catalanes re\\xfanen ya m\\xe1s de 9 millones de euros en La Marat\\xf3 de TV3 para la investigaci\\xf3n en la lucha cont\\u2026'),\n",
       " Status(ID=1075424124451872768, ScreenName=cagontooh, Created=Wed Dec 19 16:14:26 +0000 2018, Text=u\"RT @DFerrerC: 02. La #vagadefam i els judicis de l'#1O, col\\xb7loquen Espanya en una situaci\\xf3 MOLT pitjor que el dia del refer\\xe8ndum.\\nSiguem-ne\\u2026\"),\n",
       " Status(ID=1075424035071295488, ScreenName=ThHenrich, Created=Wed Dec 19 16:14:05 +0000 2018, Text=u\"@milfordedge It's high time to publish it! #RepublicaCatalana #LlibertatPresosPoliticsiExiliats #Catalonia\"),\n",
       " Status(ID=1075423952841949184, ScreenName=pitudedeu, Created=Wed Dec 19 16:13:45 +0000 2018, Text=u'RT @jordibo72: @MonDiari @KRLS Page 483 of report is about Spain. \".Defenders of the right to self-determination and in Catalonia have face\\u2026'),\n",
       " Status(ID=1075423882989965320, ScreenName=DCeridan, Created=Wed Dec 19 16:13:28 +0000 2018, Text=u'RT @ClaudeDuguay2: Les prisonniers politiques catalans en gr\\xe8ve de la faim envoient un message aux dirigeants europ\\xe9ens: \"Nous sommes victi\\u2026'),\n",
       " Status(ID=1075423832255709184, ScreenName=EuroscepticBCN, Created=Wed Dec 19 16:13:16 +0000 2018, Text=u'RT @ecasajoana: Dear @_MichaelPeters, CEO @euronewsde: Are you aware that your piece on #Katalonien calls the \"Slovenian way\" to independen\\u2026'),\n",
       " Status(ID=1075423807081451520, ScreenName=Oriol_Gordo, Created=Wed Dec 19 16:13:10 +0000 2018, Text=u'RT @ClaudeDuguay2: Les prisonniers politiques catalans en gr\\xe8ve de la faim envoient un message aux dirigeants europ\\xe9ens: \"Nous sommes victi\\u2026'),\n",
       " Status(ID=1075423796276944898, ScreenName=jaumesingla, Created=Wed Dec 19 16:13:08 +0000 2018, Text=u'RT @milfordedge: The pretrial phase of the case against the #Catalan independence process began yesterday with a big lie from the prosecuto\\u2026'),\n",
       " Status(ID=1075423693239738369, ScreenName=2208mellado, Created=Wed Dec 19 16:12:43 +0000 2018, Text=u\"RT @milfordedge: Causa especial 20907/2017\\nChronicle of #Spain's judicial coup d'\\xe9tat in #Catalonia: the cherry-picking of articles of the\\u2026\")]"
      ]
     },
     "execution_count": 93,
     "metadata": {},
     "output_type": "execute_result"
    }
   ],
   "source": [
    "#api.GetStreamSample()\n",
    "41.390205\n",
    "2.154007\n",
    "api.GetSearch(term=\"catalonia \", since=\"2017-09-01\", until='2017-12-30')\n",
    "#GetSearch(term=None, raw_query=None, geocode=None, since_id=None, max_id=None, until=None, since=None, count=15, lang=None, locale=None, result_type='mixed', include_entities=None, return_json=False)["
   ]
  },
  {
   "cell_type": "code",
   "execution_count": 94,
   "metadata": {},
   "outputs": [
    {
     "data": {
      "text/plain": [
       "[Status(ID=1075415485984980992, ScreenName=NewsAboutCat, Created=Wed Dec 19 15:40:06 +0000 2018, Text=u'Business Standard (India) 19-12-2018\\n\\nMadrid denies govt meeting in Barcelona is provocation | Business Standard Ne\\u2026 https://t.co/hFIEBSdPNV'),\n",
       " Status(ID=1075413384659656704, ScreenName=PsicRepublicana, Created=Wed Dec 19 15:31:45 +0000 2018, Text=u'RT @cientificsxRepC: IT IS JUST INCREDIBLE THAT WE ADOPT THE OPPRESSOR DISCOURSE: there is not reason to say that the Catalan society is di\\u2026'),\n",
       " Status(ID=1075410443739504640, ScreenName=NewsAboutCat, Created=Wed Dec 19 15:20:04 +0000 2018, Text=u'Outlook - The news scroll (India) 19-12-2018\\n\\nMadrid denies govt meeting in Barcelona is provocation\\n\\n#Catalonia\\u2026 https://t.co/lHRNFxPmE3'),\n",
       " Status(ID=1075404985259692032, ScreenName=NewsAboutCat, Created=Wed Dec 19 14:58:23 +0000 2018, Text=u'RT @NewsAboutCat: \"In a democratic parliament, the word has to be free. One has to be able to speak about everything. The only limit must b\\u2026'),\n",
       " Status(ID=1075404140300386310, ScreenName=ComentarxR, Created=Wed Dec 19 14:55:01 +0000 2018, Text=u'@joethebrew @ForcadellCarme @DIEZEIT @zeitonline_pol @WELT_Politik\\n@focusonline @DLF @ARTEde @ZDFheute @ARDde\\u2026 https://t.co/Qldn8jecIp'),\n",
       " Status(ID=1075399447746621440, ScreenName=jailedcatalanet, Created=Wed Dec 19 14:36:22 +0000 2018, Text=u'RT @NewsAboutCat: El Pais (Spain) 19-12-2018\\n\\nProtests in Catalonia: Barcelona on high alert ahead of Spanish Cabinet meeting | In English\\u2026'),\n",
       " Status(ID=1075394220976939008, ScreenName=piperlastrega, Created=Wed Dec 19 14:15:36 +0000 2018, Text=u'RT @milfordedge: Calling all #foreignfriendsofCatalonia resident in #Catalunya to demonstrate with #Catalans on #21D for the #catalanrepubl\\u2026'),\n",
       " Status(ID=1075390317258596353, ScreenName=NewsAboutCat, Created=Wed Dec 19 14:00:06 +0000 2018, Text=u'El Pais (Spain) 19-12-2018\\n\\nProtests in Catalonia: Barcelona on high alert ahead of Spanish Cabinet meeting | In En\\u2026 https://t.co/45kyJ2LZd9'),\n",
       " Status(ID=1075388397324288000, ScreenName=NewsAboutCat, Created=Wed Dec 19 13:52:28 +0000 2018, Text=u'RT @NewsAboutCat: \"My duty is to defend the sovereignty of parliament, freedom of expression, political pluralism, and the right of initiat\\u2026'),\n",
       " Status(ID=1075383668561068032, ScreenName=Sol86289567, Created=Wed Dec 19 13:33:40 +0000 2018, Text=u\"RT @NewsAboutCat: London School of Economics (UK) 19-12-2018\\n\\nPrivatising the nation: Why Europe needs to separate the 'nation' from the 's\\u2026\"),\n",
       " Status(ID=1075381842243665920, ScreenName=SueNKGifTWriter, Created=Wed Dec 19 13:26:25 +0000 2018, Text=u'#Catalunya\\n#Catalonia\\n#Catalogne\\n#catalanrepublic https://t.co/VXP0YsePpv'),\n",
       " Status(ID=1075367969230852096, ScreenName=SiegfriedVXnt, Created=Wed Dec 19 12:31:17 +0000 2018, Text=u'RT @milfordedge: Calling all #foreignfriendsofCatalonia resident in #Catalunya to demonstrate with #Catalans on #21D for the #catalanrepubl\\u2026'),\n",
       " Status(ID=1075366905660235776, ScreenName=mmontesdorado, Created=Wed Dec 19 12:27:04 +0000 2018, Text=u'RT @cientificsxRepC: IT IS JUST INCREDIBLE THAT WE ADOPT THE OPPRESSOR DISCOURSE: there is not reason to say that the Catalan society is di\\u2026'),\n",
       " Status(ID=1075366871149539328, ScreenName=Thenotfakeme, Created=Wed Dec 19 12:26:56 +0000 2018, Text=u'RT @NewsAboutCat: \"In a democratic parliament, the word has to be free. One has to be able to speak about everything. The only limit must b\\u2026'),\n",
       " Status(ID=1075366118011883520, ScreenName=Medard636476034, Created=Wed Dec 19 12:23:56 +0000 2018, Text=u\"RT @NewsAboutCat: Carme Forcadell's legal team are filing a petition with the ECHR in Strasbourg, saying Ms Forcadell's pre-trial detention\\u2026\")]"
      ]
     },
     "execution_count": 94,
     "metadata": {},
     "output_type": "execute_result"
    }
   ],
   "source": [
    "api.GetSearch(term=\"#catalanrepublic\")\n"
   ]
  },
  {
   "cell_type": "code",
   "execution_count": 68,
   "metadata": {},
   "outputs": [
    {
     "data": {
      "image/png": "[encoded data removed]",
      "text/plain": [
       "<Figure size 432x288 with 1 Axes>"
      ]
     },
     "metadata": {},
     "output_type": "display_data"
    }
   ],
   "source": [
    "#GetStreamFilter(follow=None, track=None, locations=None, languages=None, delimited=None, stall_warnings=None, filter_level=None)[source]\n",
    "#Returns a filtered view of public statuses.\n",
    "#\n",
    "#Parameters:\t\n",
    "#follow – A list of user IDs to track. [Optional]\n",
    "#track – A list of expressions to track. [Optional]\n",
    "#locations – A list of Longitude,Latitude pairs (as strings) specifying bounding boxes for the tweets’ origin. [Optional]\n",
    "#delimited – Specifies a message length. [Optional]\n",
    "#stall_warnings – Set to True to have Twitter deliver stall warnings. [Optional]\n",
    "#languages – A list of Languages. Will only return Tweets that have been detected as being written in the specified languages. [Optional]\n",
    "#filter_level – Specifies level of filtering applied to stream. Set to None, ‘low’ or ‘medium’. [Optional]\n",
    "#Returns:\t\n",
    "#A twitter stream\n",
    "\n",
    "pos=nx.spring_layout(G,k=10,iterations=20)\n",
    "\n",
    "nx.draw_networkx_nodes(G,pos,node_size=100, node_color=\"black\" )"
   ]
  },
  {
   "cell_type": "code",
   "execution_count": 102,
   "metadata": {},
   "outputs": [],
   "source": []
  },
  {
   "cell_type": "code",
   "execution_count": null,
   "metadata": {},
   "outputs": [],
   "source": []
  }
 ],
 "metadata": {
  "kernelspec": {
   "display_name": "Python 2",
   "language": "python",
   "name": "python2"
  },
  "language_info": {
   "codemirror_mode": {
    "name": "ipython",
    "version": 2
   },
   "file_extension": ".py",
   "mimetype": "text/x-python",
   "name": "python",
   "nbconvert_exporter": "python",
   "pygments_lexer": "ipython2",
   "version": "2.7.15"
  }
 },
 "nbformat": 4,
 "nbformat_minor": 2
}
